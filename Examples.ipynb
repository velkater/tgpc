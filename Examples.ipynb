{
 "cells": [
  {
   "cell_type": "markdown",
   "metadata": {},
   "source": [
    "# Normalization over the alphabet $\\{0,1,2\\}$"
   ]
  },
  {
   "cell_type": "code",
   "execution_count": 27,
   "metadata": {
    "collapsed": true
   },
   "outputs": [],
   "source": [
    "import tgpc"
   ]
  },
  {
   "cell_type": "markdown",
   "metadata": {},
   "source": [
    "## Working with $E_i$-palindromes and closures"
   ]
  },
  {
   "cell_type": "markdown",
   "metadata": {},
   "source": [
    "### Involutory antimorphisms $E_i$"
   ]
  },
  {
   "cell_type": "code",
   "execution_count": 28,
   "metadata": {},
   "outputs": [
    {
     "name": "stdout",
     "output_type": "stream",
     "text": [
      "('0', '2', '1')\n",
      "('2', '1', '0')\n",
      "('1', '0', '2')\n"
     ]
    }
   ],
   "source": [
    "print(tgpc.Ei(\"0\"))\n",
    "print(tgpc.Ei(\"1\"))\n",
    "print(tgpc.Ei(\"2\"))"
   ]
  },
  {
   "cell_type": "markdown",
   "metadata": {},
   "source": [
    "### Checking if a ternary string is a pseudopalindrome"
   ]
  },
  {
   "cell_type": "code",
   "execution_count": 29,
   "metadata": {},
   "outputs": [
    {
     "name": "stdout",
     "output_type": "stream",
     "text": [
      "Help on function is_eipal in module tgpc:\n",
      "\n",
      "is_eipal(seq, i)\n",
      "    Checks if a word is an Ei-palindrome.\n",
      "    \n",
      "    Args:\n",
      "        seq (string): The word checked composed \n",
      "            of the letters \"0\", \"1\" and \"2\".\n",
      "        i: Pseudopalindromic type, can be either 0, 1, 2, or \n",
      "            \"0\", \"1\", \"2\", standing for E_0, E_1 and E_2.\n",
      "        \n",
      "    Returns:\n",
      "        True if the word is an Ei-palindrome, otherwise False.\n",
      "    \n",
      "    Examples:\n",
      "        >>> is_eipal(\"012\", 1)\n",
      "        True\n",
      "        >>> is_eipal(\"002\", 1)\n",
      "        False\n",
      "\n"
     ]
    }
   ],
   "source": [
    "help(tgpc.is_eipal)"
   ]
  },
  {
   "cell_type": "code",
   "execution_count": 30,
   "metadata": {},
   "outputs": [
    {
     "name": "stdout",
     "output_type": "stream",
     "text": [
      "True\n",
      "False\n",
      "True\n"
     ]
    }
   ],
   "source": [
    "print(tgpc.is_eipal(\"012\", \"1\"))\n",
    "print(tgpc.is_eipal(\"002\", \"1\"))\n",
    "print(tgpc.is_eipal(\"01201\", \"2\"))"
   ]
  },
  {
   "cell_type": "markdown",
   "metadata": {},
   "source": [
    "### ... or an $R$-palindrome"
   ]
  },
  {
   "cell_type": "code",
   "execution_count": 31,
   "metadata": {},
   "outputs": [
    {
     "name": "stdout",
     "output_type": "stream",
     "text": [
      "True\n",
      "False\n"
     ]
    }
   ],
   "source": [
    "print(tgpc.is_pal(\"00100\"))\n",
    "print(tgpc.is_pal(\"001200\"))"
   ]
  },
  {
   "cell_type": "markdown",
   "metadata": {},
   "source": [
    "### Making $E_i$ and $R$-palindromic closures"
   ]
  },
  {
   "cell_type": "code",
   "execution_count": 32,
   "metadata": {},
   "outputs": [
    {
     "name": "stdout",
     "output_type": "stream",
     "text": [
      "102\n",
      "10121\n",
      "10201\n"
     ]
    }
   ],
   "source": [
    "print(tgpc.make_eipal_closure(\"102\", 0))\n",
    "print(tgpc.make_eipal_closure(\"101\", 1))\n",
    "print(tgpc.make_pal_closure(\"102\"))"
   ]
  },
  {
   "cell_type": "markdown",
   "metadata": {},
   "source": [
    "### Creating a GPS word from $(\\Delta, \\Theta)$"
   ]
  },
  {
   "cell_type": "code",
   "execution_count": 33,
   "metadata": {},
   "outputs": [
    {
     "name": "stdout",
     "output_type": "stream",
     "text": [
      "00122201110222100122100021112000122201110222100122100021112000122\n"
     ]
    }
   ],
   "source": [
    "print(tgpc.make_word012(\"0012112\", \"R012R11\"))"
   ]
  },
  {
   "cell_type": "markdown",
   "metadata": {},
   "source": [
    "The logging level can be set, so that we see the construction:"
   ]
  },
  {
   "cell_type": "code",
   "execution_count": 34,
   "metadata": {},
   "outputs": [
    {
     "name": "stderr",
     "output_type": "stream",
     "text": [
      "w1 = 0\n",
      "w2 = 00\n",
      "w3 = 00122\n",
      "w4 = 001222011\n",
      "w5 = 00122201110222100\n",
      "w6 = 00122201110222100122100021112000122\n",
      "w7 = 00122201110222100122100021112000122201110222100122100021112000122\n"
     ]
    },
    {
     "name": "stdout",
     "output_type": "stream",
     "text": [
      "00122201110222100122100021112000122201110222100122100021112000122\n"
     ]
    }
   ],
   "source": [
    "tgpc.set_logging(\"INFO\")\n",
    "print(tgpc.make_word012(\"0012112\", \"R012R11\"))"
   ]
  },
  {
   "cell_type": "markdown",
   "metadata": {},
   "source": [
    "... And setting it back to the default level (`ERROR`), otherwise some functions are quite verbose..."
   ]
  },
  {
   "cell_type": "code",
   "execution_count": 35,
   "metadata": {
    "collapsed": true
   },
   "outputs": [],
   "source": [
    "tgpc.set_logging(\"ERROR\")"
   ]
  },
  {
   "cell_type": "markdown",
   "metadata": {},
   "source": [
    "## Normalization algoritm"
   ]
  },
  {
   "cell_type": "markdown",
   "metadata": {},
   "source": [
    "The new normalization algoritm is implemented in the `Normalized012` class:"
   ]
  },
  {
   "cell_type": "code",
   "execution_count": 36,
   "metadata": {},
   "outputs": [
    {
     "data": {
      "text/plain": [
       "('01021102', '02R01201', False)"
      ]
     },
     "execution_count": 36,
     "metadata": {},
     "output_type": "execute_result"
    }
   ],
   "source": [
    "delta = \"0102110\"\n",
    "theta = \"02R0121\"\n",
    "normalizer = tgpc.Normalizer012()\n",
    "normalizer.normalize(delta, theta)"
   ]
  },
  {
   "cell_type": "markdown",
   "metadata": {},
   "source": [
    "`False` means that the original directive bi-sequence $(\\Delta, \\Theta)$ was not normalized.\n",
    "\n",
    "Thus the normalized form of $(0102110, E_0E_2RE_0E_1E_2E_1)$ is $(01021102, E_0E_2RE_0E_1E_2E_0E_1)$. Again, by setting the logging level to `INFO`, the different actions of the normalizer can be shown:"
   ]
  },
  {
   "cell_type": "code",
   "execution_count": 37,
   "metadata": {},
   "outputs": [
    {
     "name": "stderr",
     "output_type": "stream",
     "text": [
      "Checking for an applicable rule in('0102110', '02R0121')\n",
      "rule3: ('110', '121') in biseq ('0102110', '02R0121')\n",
      "Checking for an applicable rule in('01021102', '02R01201')\n",
      "bi-sequence before changing the letters back: (01021102, 02R01201)\n"
     ]
    },
    {
     "data": {
      "text/plain": [
       "('01021102', '02R01201', False)"
      ]
     },
     "execution_count": 37,
     "metadata": {},
     "output_type": "execute_result"
    }
   ],
   "source": [
    "tgpc.set_logging(\"INFO\")\n",
    "normalizer.normalize(delta, theta)"
   ]
  },
  {
   "cell_type": "code",
   "execution_count": 38,
   "metadata": {},
   "outputs": [
    {
     "name": "stderr",
     "output_type": "stream",
     "text": [
      "Checking for an applicable rule in('01220', '01R20')\n",
      "prefix rule: (re.compile('00(120R)*11'), '1221', 9)\n",
      "Checking for an applicable rule in('012220', '021R20')\n",
      "bi-sequence before changing the letters back: (012220, 021R20)\n"
     ]
    },
    {
     "data": {
      "text/plain": [
       "('021110', '012R10', False)"
      ]
     },
     "execution_count": 38,
     "metadata": {},
     "output_type": "execute_result"
    }
   ],
   "source": [
    "delta = \"02110\"\n",
    "theta = \"02R10\"\n",
    "normalizer.normalize(delta, theta)"
   ]
  },
  {
   "cell_type": "markdown",
   "metadata": {},
   "source": [
    "In the first example, the third factor rule $(ab_1b_2, E_iE_jE_i) \\rightarrow (ab_1b_2E_iE_j(b_1), E_iE_jE_kE_i), E_i(b_1)= E_j(b_2)$ was used with $(ab_1b_2, E_iE_jE_i) = (110, E_1E_2E_0)$.\n",
    "\n",
    "In the second, the ninth prefix rule was used: $(ijk,E_iE_kE_k) \\rightarrow (ijkij, E_iE_kE_jE_iE_k)$. Note that the algorithm changed the letters order to be successively $0$, $1$ and $2$ in $\\mathrm{u} (\\Delta, \\Theta)$."
   ]
  },
  {
   "cell_type": "markdown",
   "metadata": {},
   "source": [
    "Finally, we can compare the results with a naive Normalization algorithm. By letting the log level set to `INFO`, we see that it proceeds by actually generating the suffixes $w_i$ of pseudostandard generalized word from $(\\Delta, \\Theta)$ and by searching for all the pseudopalindromic prefixes in the word:"
   ]
  },
  {
   "cell_type": "code",
   "execution_count": 39,
   "metadata": {},
   "outputs": [
    {
     "name": "stderr",
     "output_type": "stream",
     "text": [
      "Prefixes from (delta, theta): ['0', '021', '021120', '0211201102', '021120110201022012210']\n",
      "Obtained word: 021120110201022012210\n",
      "0\n",
      "02\n",
      "021\n",
      "021120\n",
      "0211201102\n",
      "021120110201022012210\n"
     ]
    },
    {
     "data": {
      "text/plain": [
       "('021110', '012R10', False)"
      ]
     },
     "execution_count": 39,
     "metadata": {},
     "output_type": "execute_result"
    }
   ],
   "source": [
    "delta = \"02110\"\n",
    "theta = \"02R10\"\n",
    "naive_normalizer = tgpc.NaiveNormalizer012()\n",
    "naive_normalizer.normalize(delta, theta)"
   ]
  },
  {
   "cell_type": "markdown",
   "metadata": {},
   "source": [
    "The output of both the `NaiveNormalizer` and the `Normalizer` are the same. However, the NaiveNormalizer needs to construct $\\mathrm{u} (\\Delta, \\Theta)$. It has to search for longest pseudopalindromic suffixes during the construction, and then search for all the pseudopalindromic prefixes of the constructed word."
   ]
  },
  {
   "cell_type": "code",
   "execution_count": 40,
   "metadata": {},
   "outputs": [
    {
     "name": "stdout",
     "output_type": "stream",
     "text": [
      "('010211020210210', '02R01201R012012', False)\n",
      "('010211020210210', '02R01201R012012', False)\n"
     ]
    }
   ],
   "source": [
    "tgpc.set_logging(\"ERROR\")\n",
    "delta = \"010211002101\"\n",
    "theta = \"02R0121R0102\"\n",
    "print(normalizer.normalize(delta, theta))\n",
    "print(naive_normalizer.normalize(delta, theta))"
   ]
  },
  {
   "cell_type": "code",
   "execution_count": 43,
   "metadata": {},
   "outputs": [
    {
     "name": "stdout",
     "output_type": "stream",
     "text": [
      "1.73 ms ± 108 µs per loop (mean ± std. dev. of 7 runs, 1000 loops each)\n"
     ]
    }
   ],
   "source": [
    "%timeit normalizer.normalize(delta, theta)"
   ]
  },
  {
   "cell_type": "code",
   "execution_count": 44,
   "metadata": {},
   "outputs": [
    {
     "name": "stdout",
     "output_type": "stream",
     "text": [
      "573 ms ± 40.4 ms per loop (mean ± std. dev. of 7 runs, 1 loop each)\n"
     ]
    }
   ],
   "source": [
    "%timeit naive_normalizer.normalize(delta, theta)"
   ]
  }
 ],
 "metadata": {
  "kernelspec": {
   "display_name": "Python 3",
   "language": "python",
   "name": "python3"
  },
  "language_info": {
   "codemirror_mode": {
    "name": "ipython",
    "version": 3
   },
   "file_extension": ".py",
   "mimetype": "text/x-python",
   "name": "python",
   "nbconvert_exporter": "python",
   "pygments_lexer": "ipython3",
   "version": "3.6.1"
  }
 },
 "nbformat": 4,
 "nbformat_minor": 2
}
